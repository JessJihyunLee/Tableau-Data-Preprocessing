{
 "cells": [
  {
   "cell_type": "code",
   "execution_count": 1,
   "metadata": {},
   "outputs": [],
   "source": [
    "import pandas as pd\n",
    "import numpy as np\n",
    "from pandas import DataFrame, Series\n",
    "import re\n",
    "import copy\n",
    "import warnings\n",
    "warnings.filterwarnings(\"ignore\") "
   ]
  },
  {
   "cell_type": "code",
   "execution_count": 2,
   "metadata": {},
   "outputs": [],
   "source": [
    "outbreak = pd.read_csv(\"D:/Visualization/Outbreak_240817.csv\")"
   ]
  },
  {
   "cell_type": "code",
   "execution_count": 3,
   "metadata": {},
   "outputs": [
    {
     "data": {
      "text/plain": [
       "Index(['Id', 'source', 'latitude', 'longitude', 'region', 'country', 'admin1',\n",
       "       'localityName', 'localityQuality', 'observationDate', 'reportingDate',\n",
       "       'status', 'disease', 'serotypes', 'speciesDescription', 'sumAtRisk',\n",
       "       'sumCases', 'sumDeaths', 'sumDestroyed', 'sumSlaughtered',\n",
       "       'humansGenderDesc', 'humansAge', 'humansAffected', 'humansDeaths'],\n",
       "      dtype='object')"
      ]
     },
     "execution_count": 3,
     "metadata": {},
     "output_type": "execute_result"
    }
   ],
   "source": [
    "outbreak.columns"
   ]
  },
  {
   "cell_type": "code",
   "execution_count": 4,
   "metadata": {},
   "outputs": [],
   "source": [
    "df = copy.deepcopy(outbreak)"
   ]
  },
  {
   "cell_type": "code",
   "execution_count": 5,
   "metadata": {},
   "outputs": [],
   "source": [
    "df['country'][df['country']=='Taiwan (Province of China)']='Taiwan'"
   ]
  },
  {
   "cell_type": "markdown",
   "metadata": {},
   "source": [
    "## Create 'Report Time', 'Mortality' column\n",
    "* 'Late Report' = 'reportingDate'-'observationDate'\n",
    "* 'Late Observation' = 'observationDate'-'reportingDate'\n",
    "* 'Mortaliy' = ratio of 'sumAtRisk' cases led to 'sumDeaths'\n",
    "* 'Severity' = ration of 'sumCases' led to 'sumAtRisk'"
   ]
  },
  {
   "cell_type": "code",
   "execution_count": 6,
   "metadata": {},
   "outputs": [],
   "source": [
    "# Create 'Report Time' column\n",
    "df['observationDate'] = pd.to_datetime(df['observationDate'])\n",
    "df['reportingDate'] = pd.to_datetime(df['reportingDate'])\n",
    "df['Late Report'] =  df['reportingDate'] - df['observationDate']\n",
    "df['Late Observation'] =  df['observationDate'] - df['reportingDate']\n",
    "df['Late Report'] = df['Late Report'].astype('str')\n",
    "df['Late Observation'] = df['Late Observation'].astype('str')\n",
    "\n",
    "def days_to_int(string):\n",
    "    temp = string.split(' ')\n",
    "    number = [x for x in temp if x!='days']\n",
    "    if number[0]!='NaT':\n",
    "        number = int(number[0])\n",
    "        if number < 0:\n",
    "            number = 0\n",
    "    else:\n",
    "        number = 0\n",
    "    return number\n",
    "\n",
    "df['Late Report'] = df['Late Report'].map(days_to_int)\n",
    "df['Late Observation'] = df['Late Observation'].map(days_to_int)"
   ]
  },
  {
   "cell_type": "code",
   "execution_count": 7,
   "metadata": {},
   "outputs": [],
   "source": [
    "# Create 'Mortality', 'Severity' column\n",
    "df['sumAtRisk'].fillna(0)\n",
    "df['sumDeaths'].fillna(0)\n",
    "df['sumCases'].fillna(0)\n",
    "df['Mortality'] = round(df['sumDeaths']/df['sumAtRisk']*100,2)\n",
    "df['Severity'] = round(df['sumAtRisk']/df['sumCases']*100,2)\n",
    "df['Mortality'][df['Mortality']==np.inf]=0\n",
    "df['Mortality'][df['Mortality'].isna()]=0\n",
    "df['Severity'][df['Severity']==np.inf]=0\n",
    "df['Severity'][df['Severity'].isna()]=0"
   ]
  },
  {
   "cell_type": "markdown",
   "metadata": {},
   "source": [
    "## Break down 'speciesDescription' column\n",
    "\n",
    "* Extract 'whether its domestic or not'\n",
    "* Extract 'whether its wild or not'\n",
    "* Extract 'whether its unspecifed or not'\n",
    "* Create all the columns of each 'Species of animals'"
   ]
  },
  {
   "cell_type": "code",
   "execution_count": 8,
   "metadata": {
    "scrolled": true
   },
   "outputs": [],
   "source": [
    "def second_breakdown(temp):\n",
    "    new_list=[]\n",
    "    for i in temp:\n",
    "        if len(i.split(','))!=1:\n",
    "            new_list=new_list+i.split(',')\n",
    "        else:\n",
    "            new_list.append(i)\n",
    "    return new_list\n",
    "\n",
    "def breakdown_species(string):\n",
    "    string = str(string)\n",
    "    domestic = len(re.findall('domestic',string))\n",
    "    wild = len(re.findall('wild',string))\n",
    "    unspecified = len(re.findall('unspecified',string))\n",
    "    temp = string.split(', ')\n",
    "    temp = second_breakdown(temp)\n",
    "    species = [x for x in temp if x not in ['domestic', 'wild']]\n",
    "    species = [domestic, wild, unspecified]+species\n",
    "    return species\n",
    "\n",
    "def clean_typos(string):\n",
    "    string=string.replace('wild,','').replace('wild ','')\n",
    "    string=re.sub(\"\\s*\\(.+\\)\",'',string)\n",
    "    string=string.replace(')','')\n",
    "    return string            "
   ]
  },
  {
   "cell_type": "code",
   "execution_count": 9,
   "metadata": {},
   "outputs": [],
   "source": [
    "#Extract 'whether its domestic/wild or not'\n",
    "df['domestic'] = df['speciesDescription'].map(lambda x : breakdown_species(x)[0])\n",
    "df['wild'] = df['speciesDescription'].map(lambda x : breakdown_species(x)[1])\n",
    "df['unspecified'] = df['speciesDescription'].map(lambda x : breakdown_species(x)[2])"
   ]
  },
  {
   "cell_type": "code",
   "execution_count": 10,
   "metadata": {},
   "outputs": [],
   "source": [
    "#Create columns of all types of species\n",
    "species = df['speciesDescription'].map(lambda x : breakdown_species(x)[3:])\n",
    "total_species = []\n",
    "for i in species:\n",
    "    total_species=total_species+i\n",
    "total_species = list(set(Series(total_species).map(clean_typos)))"
   ]
  },
  {
   "cell_type": "code",
   "execution_count": 11,
   "metadata": {},
   "outputs": [],
   "source": [
    "species_count = DataFrame(0,columns=total_species, index=df.index)\n",
    "\n",
    "df['species'] = df['speciesDescription'].map(lambda x : breakdown_species(x)[3:]).map(lambda x : clean_typos(str(x).strip('[]')))\n",
    "for i in range(len(df['species'])):\n",
    "    values = df['species'][i]\n",
    "    values = values.split(', ')\n",
    "    for j in values:\n",
    "        j = j.strip(\"''\")\n",
    "        species_count[j][i]=species_count[j][i]+1\n",
    "\n",
    "df = df.join(species_count)"
   ]
  },
  {
   "cell_type": "markdown",
   "metadata": {},
   "source": [
    "## Export Dataframe to csv"
   ]
  },
  {
   "cell_type": "code",
   "execution_count": 12,
   "metadata": {},
   "outputs": [],
   "source": [
    "df.to_csv('D:/Visualization/clean_outbreak.csv')"
   ]
  }
 ],
 "metadata": {
  "kernelspec": {
   "display_name": "Python 3",
   "language": "python",
   "name": "python3"
  },
  "language_info": {
   "codemirror_mode": {
    "name": "ipython",
    "version": 3
   },
   "file_extension": ".py",
   "mimetype": "text/x-python",
   "name": "python",
   "nbconvert_exporter": "python",
   "pygments_lexer": "ipython3",
   "version": "3.6.5"
  }
 },
 "nbformat": 4,
 "nbformat_minor": 2
}
